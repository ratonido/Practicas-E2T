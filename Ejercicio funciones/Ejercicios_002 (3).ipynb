{
 "cells": [
  {
   "cell_type": "markdown",
   "metadata": {
    "id": "vAgxJV1qbv92"
   },
   "source": [
    "**Ejercicio 01**\n",
    "\n",
    "- Realice una función llamada imprimir.\n",
    "- La función no requiere ningún parámetro.\n",
    "- Cuando la función sea llamada, debe imprimir por pantalla la palabra \"HOLA\".\n",
    "- Se debe incluir las comillas dobles, tal como muestra el parrafo anterior.\n",
    "- Una vez realizada la función, realizaremos 3 llamadas a la función.\n",
    "- La salida en pantalla deberá ser la siguiente:\n",
    "<br><br>\n",
    "\"HOLA\"<br>\n",
    "\"HOLA\"<br>\n",
    "\"HOLA\"<br>"
   ]
  },
  {
   "cell_type": "code",
   "execution_count": 2,
   "metadata": {
    "id": "9dGWnMcubjTS"
   },
   "outputs": [
    {
     "name": "stdout",
     "output_type": "stream",
     "text": [
      "\"HOLA\"\n",
      "\"HOLA\"\n",
      "\"HOLA\"\n"
     ]
    }
   ],
   "source": [
    "def imprimir():\n",
    "\n",
    "    print('\"HOLA\"')\n",
    "    \n",
    "imprimir()\n",
    "imprimir()\n",
    "imprimir()"
   ]
  },
  {
   "cell_type": "markdown",
   "metadata": {
    "id": "_-pA1xx1dy61"
   },
   "source": [
    "**Ejercicio 02**\n",
    "\n",
    "- Realizar una función que devuelva el área de un triángulo.\n",
    "- La fórmula es ( base * altura ) divido entre 2\n",
    "- La función recibirá dos argumentos, la base y la altura.\n",
    "- Devolverá el resultado del área.\n",
    "- Para mostrar en pantalla el resultado del área, se debe utilizar una función print, que contenga la llamada a la función.\n",
    "- La base y la altura las introducirá el usuario antes de llamar a la función, utilizando la función input."
   ]
  },
  {
   "cell_type": "code",
   "execution_count": 5,
   "metadata": {
    "id": "1KlLv7-Shtpb"
   },
   "outputs": [
    {
     "name": "stdout",
     "output_type": "stream",
     "text": [
      "6.0\n"
     ]
    }
   ],
   "source": [
    "def area(base,altura):\n",
    "\n",
    "    x = (base*altura)/2\n",
    "\n",
    "    print ( x )\n",
    "\n",
    "area(3,4)"
   ]
  },
  {
   "cell_type": "markdown",
   "metadata": {
    "id": "OlBqDkGjhynL"
   },
   "source": [
    "**Ejercicio 03**\n",
    "\n",
    "- Realice una función que reciba como argumento la temperatura del agua (entero).\n",
    "- Dependiendo del valor recibido, mostrará por pantalla:\n",
    " - si el agua está congelada (menor o igual a 0) mostrará congelada\n",
    " - si está entre 1 y 99 mostrará líquida\n",
    " - si es mayor a 99 mostrará evaporándose"
   ]
  },
  {
   "cell_type": "code",
   "execution_count": 20,
   "metadata": {
    "id": "Oxoq8T2eh1gB"
   },
   "outputs": [
    {
     "name": "stdin",
     "output_type": "stream",
     "text": [
      "Introduzca temperatura: 100\n"
     ]
    },
    {
     "name": "stdout",
     "output_type": "stream",
     "text": [
      "Evaporándose\n"
     ]
    }
   ],
   "source": [
    "def temperatura(t):\n",
    "    if t <= 0:\n",
    "        print(\"Congelada\")\n",
    "    elif t >0 and temp < 99:\n",
    "        print(\"Líquida\")\n",
    "    else:\n",
    "        print(\"Evaporándose\")\n",
    "        \n",
    "temp = int(input(\"Introduzca temperatura:\"))\n",
    "           \n",
    "temperatura(temp)"
   ]
  },
  {
   "cell_type": "markdown",
   "metadata": {
    "id": "bvUEYIzmpvqg"
   },
   "source": [
    "**Ejercicio 04**\n",
    "\n",
    "- Realice una función, que reciba como argumento la edad de una persona.\n",
    "- La edad se preguntará al usuario antes de llamar a la función.\n",
    "- Dependiendo de la edad, mostrará su categoría según los siguientes valores:\n",
    " - Prebenjamines: 5, 6 y 7 años\n",
    " - Benjamines: 8 y 9 años\n",
    " - Alevines: 10 y 11 años\n",
    " - Infantiles: 12 y 13 años\n",
    " - Cadetes: 14 y 15 años\n",
    " - Juveniles: 16, 17 y 18 años\n",
    " - Senior: mayores de 18 años\n",
    " - Para los menores de 5 años debe mostrar: \"no es posible hacer ficha a esta edad\""
   ]
  },
  {
   "cell_type": "code",
   "execution_count": 25,
   "metadata": {
    "id": "keQ4sEjJqQF9"
   },
   "outputs": [
    {
     "name": "stdin",
     "output_type": "stream",
     "text": [
      "introduzca edad: 100\n"
     ]
    },
    {
     "name": "stdout",
     "output_type": "stream",
     "text": [
      "Senior\n"
     ]
    }
   ],
   "source": [
    "def edades(edad):\n",
    "    if edad < 5:\n",
    "        print(\"No es posible hacer ficha a eesta edad\")\n",
    "    elif edad in range(5,8):\n",
    "        print(\"Prebenjamines\")\n",
    "    elif edad in range(8,10):\n",
    "        print(\"Benjamines\")\n",
    "    elif edad in range(10,12):\n",
    "        print(\"Alevines\")\n",
    "    elif edad in range(12,14):\n",
    "        print(\"Infantiles\")\n",
    "    elif edad in range(14,16):\n",
    "        print(\"Cadetes\")\n",
    "    elif edad in range(16,19):\n",
    "        print(\"Juveniles\")   \n",
    "    else:\n",
    "        print(\"Senior\")\n",
    "edad = int(input(\"introduzca edad:\"))\n",
    "\n",
    "edades(edad)\n"
   ]
  },
  {
   "cell_type": "markdown",
   "metadata": {
    "id": "xCZHlwCdtpwA"
   },
   "source": [
    "**Ejercicio 5:**\n",
    "\n",
    "- Realice una función que solicite un número de 3 cifras.\n",
    "- Debe comprobar que el número contiene 3 cifras exactamente.\n",
    "- Si el número al invertirlo, es el mismo número, debe mostrar el texto \"Capicúa\" (ejemplo: 101)\n",
    "- Debe sumar los dos extremos del número y comprobar si es igual al del centro, en ese caso debe mostrar \"El centro gana\"\n",
    "- Si la suma de las 3 cifras se puede dividir entre 10 sin obtener resto (división exacta), debe decir \"Perfecto\"\n",
    "- Para finalizar, independientemente de lo anterior, debe mostrar el número más alto, que es posible realizar combinando esas 3 cifras, diciendo: \"TOP: \" + el número resultante.\n",
    "\n",
    "\n"
   ]
  },
  {
   "cell_type": "code",
   "execution_count": null,
   "metadata": {
    "id": "VD__E_e4wlg8"
   },
   "outputs": [],
   "source": [
    "# Espacio para el ejercicio 5"
   ]
  },
  {
   "cell_type": "markdown",
   "metadata": {
    "id": "1I8DWHwayK4s"
   },
   "source": [
    "# Ejercicio 6\n",
    "\n",
    "Una empresa alquila coches. Cobra una base de alquiler de 100€ para los primeros 250 Km.\n",
    "\n",
    "Para los kilómetros extra, por encima de 250 y hasta 1000, cobra 0,3€ por kilómetro.\n",
    "\n",
    "Para más de 1000 Kilómetros, cobra 0,1€ el kilómetro.\n",
    "\n",
    "Para aquellos que realizan un alquiler de más de 1000 Km, la empresa les hace un 20% de descuento en el total a pagar.\n",
    "\n",
    "Desarrolle la función necesaria, para que un usuario pueda indicar los kilómetros utilizados en el alquiler y reciba el monto a cobrar por ese alquiler."
   ]
  },
  {
   "cell_type": "code",
   "execution_count": null,
   "metadata": {
    "id": "38E8HwSszOaW"
   },
   "outputs": [],
   "source": [
    "# Espacio para el ejercicio 6"
   ]
  },
  {
   "cell_type": "markdown",
   "metadata": {
    "id": "jg9BdTJn1O39"
   },
   "source": [
    "**Ejercicio 7**\n",
    "\n",
    "- Las notas de una asignatura, se basan en 4 calificaciones obtenidas.\n",
    "- De estas calificaciones, el profesor desea eliminar la calificación más baja.\n",
    "- Posteriormente, realizará la media artimética de las 3 calificaciones restantes, y esa nota será la de la asignatura.\n",
    "- Realice una función que reciba las 4 notas, determine cual debe eliminar y devuelva la media aritmética requerida.\n",
    "- Las calificaciones se le solicitarán al usuario.\n",
    "- Al finalizar el algoritmo mostrará por pantalla las 4 notas introducidas por el usuario, y la media obtenida, redondeado a 2 decimales.\n",
    "\n",
    "Ejemplo: [10, 9, 7, 5] media: 8,66"
   ]
  },
  {
   "cell_type": "code",
   "execution_count": null,
   "metadata": {
    "id": "15isJwM92eo1"
   },
   "outputs": [],
   "source": [
    "# Espacio para el ejercicio 7"
   ]
  }
 ],
 "metadata": {
  "colab": {
   "provenance": []
  },
  "kernelspec": {
   "display_name": "Python 3.09",
   "language": "python",
   "name": "python3"
  },
  "language_info": {
   "codemirror_mode": {
    "name": "ipython",
    "version": 3
   },
   "file_extension": ".py",
   "mimetype": "text/x-python",
   "name": "python",
   "nbconvert_exporter": "python",
   "pygments_lexer": "ipython3",
   "version": "3.9.7"
  }
 },
 "nbformat": 4,
 "nbformat_minor": 4
}
