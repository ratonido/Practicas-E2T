{
 "cells": [
  {
   "cell_type": "markdown",
   "metadata": {
    "id": "-L3GMY3eSdJo"
   },
   "source": [
    "## Ejercicios de Algoritmia\n",
    "\n",
    "Realice la función necesaria para imprimir la **secuencia de Fibonacci**.\n",
    "\n",
    "La secuencia de Fibonacci es una sucesión infinita de números naturales, descrita por primera vez por el matemático italiano Fibonacci en el siglo XIII.<br><br>\n",
    " Esta serie numérica empieza con dos valores, 0 y 1. Digamos x = 0, y = 1 \n",
    " * Debemos tomar el segundo valor, (y) e imprimirlo.\n",
    " * el valor de y pasa a ser (x + y), y el valor de x pasa a ser el antiguo valor de y\n",
    " * Esto lo repetimos, según las iteraciones solicitadas\n",
    "\n",
    "\n",
    "Así, por ejemplo, tenemos:\n",
    "\n",
    "1, 1, 2, 3, 5, 8, 13...\n",
    "\n",
    "En la primera iteración, tenemos 0 y 1:<br>\n",
    "  imprimimos el segundo valor 1 y el siguiente número es la suma de ambos 0 + 1 <br><br>\n",
    "En la segunda iteración, tenemos 1 y 1:<br>\n",
    " imprimimos el segundo valor 1, y el siguiente número es la suma de ambos 1 + 1<br><br>\n",
    "En la tercera iteración, tenemos 1 y 2:<br>\n",
    "imprimimos el segundo valor 2, y el siguiente es la suma de ambos 1+2...\n"
   ]
  },
  {
   "cell_type": "code",
   "execution_count": null,
   "metadata": {
    "colab": {
     "base_uri": "https://localhost:8080/"
    },
    "id": "zwA1cK2iScMU",
    "outputId": "d639c025-bdc9-403e-b692-60b18cc10a6a"
   },
   "outputs": [],
   "source": [
    "# Espacio para el ejercicio secuencia de Fibonacci"
   ]
  },
  {
   "cell_type": "markdown",
   "metadata": {
    "id": "9ngd-yX7XCtX"
   },
   "source": [
    "## La función factorial\n",
    "\n",
    "La función factorial, multiplica todos los números descendientes desde el número dado.\n",
    "\n",
    "Así, por ejemplo, para el número 4 sería:<br>\n",
    "4x3x2x1 = 24"
   ]
  },
  {
   "cell_type": "code",
   "execution_count": null,
   "metadata": {
    "colab": {
     "base_uri": "https://localhost:8080/"
    },
    "id": "MyKpqfFVXoW2",
    "outputId": "ff5d64be-e52a-424d-c7b5-64d27f0a35dc"
   },
   "outputs": [],
   "source": [
    "# Espacio para la función factorial"
   ]
  },
  {
   "cell_type": "markdown",
   "metadata": {
    "id": "fLvBKnpCXsPF"
   },
   "source": [
    "## Combinatoria de Permutaciones sin repetición.\n",
    "\n",
    "En combinatoria, tenemos diferentes formas de calcular las posibles soluciones a un problema. \n",
    "\n",
    "* Si el orden de los resultados no importa, es una combinación.\n",
    "* Cuando importa el orden de los resultados, es una permutación.\n",
    "\n",
    "El ejemplo más clarificador de una permutación, es la posición de los atletas en una carrera. El primero no puede quedar segundo. **Esto sería una permutación sin repetición.**\n",
    "\n",
    "Definir los tipos de combinaciones y permutaciones, con y sin repetición no es el objetivo de esta clase, pero ya que tenemos una idea acerca de la permutación sin repetición, conoceremos que esta se calcula utilizando la función factorial.\n",
    "\n",
    "Si queremos saber, cuantas posibles formas hay de ordenar las 18 bolas de billar, simplemente tenemos que hacer función factorial de 16.\n",
    "\n",
    "Pero si de esas 16 bolas, solo queremos obtener 3, y saber cuantas posibles permutaciones hay, solo sacando 3 bolas, sería usando la función factorial, pero con tantas iteraciones como bolas queremos. Es decir, para 3 bolas, sería:\n",
    "\n",
    "**16x15x14 = 3360 permutaciones**\n",
    "\n",
    "Modifique la función creada en el ejercico anterior, para permitir calcular la función factorial, y de forma opcional, definir cuantas iteraciones deseo."
   ]
  },
  {
   "cell_type": "code",
   "execution_count": null,
   "metadata": {
    "colab": {
     "base_uri": "https://localhost:8080/"
    },
    "id": "JoevwdfQbGGY",
    "outputId": "ec4f1af4-7aae-4cd1-e50a-52e88bc8d614"
   },
   "outputs": [],
   "source": [
    "# Espacio para permutaciones sin repetición"
   ]
  },
  {
   "cell_type": "markdown",
   "metadata": {
    "id": "C8fI10yKbNFE"
   },
   "source": [
    "## Loterías y Apuestas\n",
    "\n",
    "Ahora que tenemos una función factorial, vamos a utilizarla para conocer las **combinaciones** de la lotería (sin entrar en la explicación matemática).\n",
    "\n",
    "Para calcular las posibles combinaciones de una lotería hacemos:\n",
    "\n",
    "**factorial**(valores totales) / ( **factorial**(extracciones) * **factorial**(valores totales-extracciones) )\n",
    "\n",
    "Así, para la primitiva, debería ser:<br><br>\n",
    "\n",
    "factorial(49) / ( factorial(6) * factorial (49-6) )<br><br>\n",
    "Primitiva: (49, 6) = 13.983.816"
   ]
  },
  {
   "cell_type": "code",
   "execution_count": null,
   "metadata": {
    "id": "_qycDJ8kiJ1H"
   },
   "outputs": [],
   "source": [
    "# Espacio para la lotería "
   ]
  },
  {
   "cell_type": "markdown",
   "metadata": {
    "id": "ZS7pELbhi0uH"
   },
   "source": [
    "PD: si queremos saber la posibilidad de acertar los 6 números + el reintegro, multiplicamos por 10 el resultado anterior (cada una de las posibilidades de reintegro)\n",
    "\n",
    "**139.838.160 millones de combinaciones.**"
   ]
  },
  {
   "cell_type": "markdown",
   "metadata": {
    "id": "AgbEke4njpBv"
   },
   "source": [
    "**Números Primos**\n",
    "\n",
    "Los números primos (todos aquellos que sólo son divisibles entre 1 y ellos mismos) son muy usados, sobre todo en cifrado. Un ordenador, para comprobar que un números es primo, necesita recorrer todos los anteriores a el, y comprobar si es divisible entre algunos de ellos (excepto el 0 y el 1). Esto hace, que a nivel informático, comprobar el número primo de números realmente altos, requiera de muchos cálculos.\n",
    "\n",
    "Esto lo aprovechan los cifrados, para realizar cálculos muy costosos de aplicarles ingeniería inversa.\n",
    "\n",
    "Como ejercicio, realizaremos una función que nos compruebe si un número es primo o no.\n",
    "\n",
    "Sabemos que es primo si ningún número entre el (sin incluirlo) y el 2, de forma descendiente o ascendiente, es capaz de dividirlo. Si alguno de ellos lo divide, diremos que no es primo por que hemos encontrado al menos un divisor, y mostraremos ese divisor.\n",
    "\n",
    "Por lo tanto\n",
    "Si en el rango (2, minumero) obtengo que minumero%iteracion == 0 --> no es primo.\n",
    "Si finaliza esa iteración sin problemas, es primo."
   ]
  },
  {
   "cell_type": "code",
   "execution_count": null,
   "metadata": {
    "id": "Wo9vRhYOkiec"
   },
   "outputs": [],
   "source": [
    "# Espacio para función de números primos."
   ]
  }
 ],
 "metadata": {
  "colab": {
   "provenance": []
  },
  "kernelspec": {
   "display_name": "Python 3.09",
   "language": "python",
   "name": "python3"
  },
  "language_info": {
   "codemirror_mode": {
    "name": "ipython",
    "version": 3
   },
   "file_extension": ".py",
   "mimetype": "text/x-python",
   "name": "python",
   "nbconvert_exporter": "python",
   "pygments_lexer": "ipython3",
   "version": "3.9.7"
  }
 },
 "nbformat": 4,
 "nbformat_minor": 4
}
