{
 "cells": [
  {
   "cell_type": "markdown",
   "id": "115d65c1-876e-4360-9e82-8794ff43d333",
   "metadata": {},
   "source": [
    "---\n",
    "###  **Ejercicios 003**\n",
    "\n",
    "Continuación del uso de funciones, condicionales y variables.\n",
    "\n",
    "---"
   ]
  },
  {
   "cell_type": "markdown",
   "id": "620970de-92cb-445b-89f8-b0890370ef95",
   "metadata": {},
   "source": [
    "**Ejercicio 1**\n",
    "\n",
    "- defina la variable texto1 con valor \"HOLA\"\n",
    "- defina la variable texto2 con valor \"MUNDO\"\n",
    "- defina la variable texto3 con valor \"SOY YO\"\n",
    "\n",
    "\n",
    "Mediante el uso de una instrucción print, imprima las variables texto1 y texto 2, separadas por un *, haciendo uso del argumento sep. Mediante el uso del argumento end, sustituya el retorno de carro de la función print por un *\n",
    "\n",
    "Utilice una segunda función print para imprimir el texto 3"
   ]
  },
  {
   "cell_type": "code",
   "execution_count": null,
   "id": "879a6d8c-43fc-4722-8ef2-a6cae8043e43",
   "metadata": {},
   "outputs": [],
   "source": [
    "# Espacio para el ejercicio 1"
   ]
  },
  {
   "cell_type": "markdown",
   "id": "618109fb-e21c-48d2-946e-f95e479b398e",
   "metadata": {},
   "source": [
    "**Ejercicio 2**\n",
    "\n",
    "Vamos a realizar una función que capture el error de tipo (TypeError). Para ello, la función recibirá como argumento un string de nuestra elección.\n",
    "\n",
    "Intentaremos asignar a la variable de texto recibida en la función, su valor sumado a un entero ( + 1 ). var1 = var1 + 1\n",
    "\n",
    "Capturaremos el error de tipo (no podemos sumar string con enteros), pero cualquier otro error si debería producirse."
   ]
  },
  {
   "cell_type": "code",
   "execution_count": 3,
   "id": "2b42b6e6-ca09-4ffc-8ea0-f6e754df6cfb",
   "metadata": {},
   "outputs": [],
   "source": [
    "# Espacio para el ejercicio 2"
   ]
  },
  {
   "cell_type": "markdown",
   "id": "0df6a445-ad52-4b85-8049-66d221682169",
   "metadata": {},
   "source": [
    "**Ejercicio 3**\n",
    "\n",
    "Realizar una función que reciba dos argumentos de nuestra elección. La función intentará sumar ambos. En caso de producirse un error, debemos capturarlo y mostrar el mensaje \"No ha sido posible sumarlos\".\n",
    "\n",
    "Los dos argumentos se introducen en el código, no es necesario usar inputs."
   ]
  },
  {
   "cell_type": "code",
   "execution_count": null,
   "id": "790882ab-ba72-4f63-85c1-71edf052c121",
   "metadata": {},
   "outputs": [],
   "source": [
    "# Espacio para el ejercicio 3"
   ]
  },
  {
   "cell_type": "markdown",
   "id": "8be420bf-c796-45e4-8c2e-685ee4d87bfb",
   "metadata": {},
   "source": [
    "**Ejercicio 4**\n",
    "\n",
    "- Pediremos al usuario un numero del 1 al 10 por teclado (confiaremos en que lo introduce bien, no es necesario comprobarlo)\n",
    "- convertiremos este numero a entero y lo asignaremos a la variable a\n",
    "- realizaremos una función llamada elevador, que reciba como argumento un entero\n",
    "- esta función, hace una potencia de 2 del número recibido\n",
    "- una vez hecha la potencia, le sumará 2 al número obtenido y lo devolverá\n",
    "- realizaremos otra función llamada combinador, que recibirá como argumento un entero.\n",
    "- esta función, tomará el número recibido y le sumará 1. Al valor obtenido se le debe aplicar la función elevador.\n",
    "- Al valor obtenido de la función elevador, dentro de la función combinador, le restaremos 4.\n",
    "- La función combinador devolverá el resultado.\n",
    "\n",
    "Utilizaremos una función print, que llamará a la función combinador, con el valor de la variable a"
   ]
  },
  {
   "cell_type": "code",
   "execution_count": null,
   "id": "95de7333-d9ea-4507-be92-23980a7d9790",
   "metadata": {},
   "outputs": [],
   "source": [
    "# Espacio para el ejercicio 4"
   ]
  },
  {
   "cell_type": "markdown",
   "id": "ab9fb395-5235-4fe9-9cea-b7c8bd8bcd3a",
   "metadata": {},
   "source": [
    "**Ejercicio 5**\n",
    "\n",
    "Realice una función, que reciba un número entero y diga por pantalla, si el número es positivo, negativo o neutro (0).\n",
    "\n",
    "El número pasado a la función lo puede introducir el programador en el código, no es necesario usar inputs."
   ]
  },
  {
   "cell_type": "code",
   "execution_count": null,
   "id": "6ef23f64-daca-4e18-b437-7e365235cee4",
   "metadata": {},
   "outputs": [],
   "source": [
    "# Espacio para el ejercicio 5"
   ]
  },
  {
   "cell_type": "markdown",
   "id": "f159e31e-19eb-4341-82f4-e0485b7d3e1c",
   "metadata": {},
   "source": [
    "**Ejercicio 6**\n",
    "\n",
    "Vamos a realizar una calculadora.\n",
    "- Pediremos al usuario un primer número\n",
    "- Pediremos al usuario un segundo número\n",
    "- Pediremos el tipo de operación a realizar (+, -, *, /)\n",
    "- Realizaremos una función, que dependiendo de la operación elegida, muestre por pantalla la operación y el resultado obtenido.\n",
    "\n",
    "Ejemplo de salida en pantalla: 5 + 2 = 7"
   ]
  },
  {
   "cell_type": "code",
   "execution_count": null,
   "id": "7e7298c3-cdf3-46e9-ab27-e13090f77d34",
   "metadata": {},
   "outputs": [],
   "source": [
    "# Espacio para el ejercicio 6"
   ]
  },
  {
   "cell_type": "markdown",
   "id": "7017359f-5da3-4da8-b31a-21dac0bd5967",
   "metadata": {},
   "source": [
    "**Ejercicio 7**\n",
    "\n",
    "Escribe una función que pida un numero entero al usuario.\n",
    "\n",
    "Si el número introducido es múltiplo de 5, mostrará por pantalla \"HOLA\"\n",
    "\n",
    "En caso de no sermúltiplo de 5, mostrará \"ADIOS\""
   ]
  },
  {
   "cell_type": "code",
   "execution_count": null,
   "id": "a60f5665-0d25-4545-9e06-d9eedbf42245",
   "metadata": {},
   "outputs": [],
   "source": [
    "# Espacio para el ejercicio 7"
   ]
  },
  {
   "cell_type": "markdown",
   "id": "ae7b4589-7c89-4701-a9ba-48f7d8e1b4d7",
   "metadata": {},
   "source": [
    "**Ejercicio 8**\n",
    "\n",
    "Escriba una función, para detectar si el número es par o impar.\n",
    "\n",
    "El número lo introducirá el usuario por teclado."
   ]
  },
  {
   "cell_type": "code",
   "execution_count": null,
   "id": "41f86098-b821-447b-b36c-39c2ecf940d5",
   "metadata": {},
   "outputs": [],
   "source": [
    "# Espacio para el ejercicio 8"
   ]
  },
  {
   "cell_type": "markdown",
   "id": "dfe64c75-80ab-409f-90a6-299a8dc46dc9",
   "metadata": {},
   "source": [
    "**Ejercicio 9**\n",
    "\n",
    "La Armada quiere premiar a todo su personal con un incentivo único en función de los años de servicio. Se calculará sobre el sueldo actual.\n",
    "\n",
    "- Para aquellos con más de 15 años de servicio el incentivo será del 10%\n",
    "- Para aquellos con más de 10 años de servicio el incentivo será del 5%\n",
    "- Para aquellos con más de 5 años de servicio el incentivo será del 2%\n",
    "\n",
    "Los incentivo no son acumulativos, solo puede recibir uno de ellos (o ninguno)\n",
    "\n",
    "- Realice una función, que recibirá el sueldo actual y los años de servicio.\n",
    "- Esta función imprimirá en pantalla el incentivo a recibir\n",
    "\n",
    "Se debe solicitar al usuario el sueldo actual y sus años de servicio, para llamar a la función y realizar el cálculo.\n"
   ]
  },
  {
   "cell_type": "code",
   "execution_count": null,
   "id": "c21430e4-c6ae-4bc6-a5f7-58e7ecae2293",
   "metadata": {},
   "outputs": [],
   "source": [
    "# Espacio para el ejercicio 9"
   ]
  }
 ],
 "metadata": {
  "kernelspec": {
   "display_name": "Python 3.09",
   "language": "python",
   "name": "python3"
  },
  "language_info": {
   "codemirror_mode": {
    "name": "ipython",
    "version": 3
   },
   "file_extension": ".py",
   "mimetype": "text/x-python",
   "name": "python",
   "nbconvert_exporter": "python",
   "pygments_lexer": "ipython3",
   "version": "3.9.7"
  }
 },
 "nbformat": 4,
 "nbformat_minor": 5
}
