{
 "cells": [
  {
   "cell_type": "markdown",
   "id": "846f257a-4ae3-4cdf-897b-fec0b0628595",
   "metadata": {},
   "source": [
    "Realice el código necesario para obtener la siguiente salida. \n",
    "\n",
    "* Máximo 16 líneas de código. \n",
    "* Perfecto en 6 líneas de código.\n",
    "* Nivel Dios: 4 líneas de código.\n",
    "\n",
    "**Ayuda de conocimiento**: a un string, podemos aplicarle la propiedad center para que rellene con espacios. Ejemplo:"
   ]
  },
  {
   "cell_type": "code",
   "execution_count": 1,
   "id": "ee21fa69-eae7-49b6-b7c5-81379a1b5f9f",
   "metadata": {},
   "outputs": [
    {
     "name": "stdout",
     "output_type": "stream",
     "text": [
      "              ^               \n"
     ]
    }
   ],
   "source": [
    "print(('^').center(30))"
   ]
  },
  {
   "cell_type": "raw",
   "id": "b4a4df81-8c0c-48a5-a665-48ebc9361688",
   "metadata": {},
   "source": [
    "              ^               \n",
    "             ^^^              \n",
    "            ^^^^^             \n",
    "           ^^^^^^^            \n",
    "          ^^^^^^^^^           \n",
    "         ^^^^^^^^^^^          \n",
    "        ^^^^^^^^^^^^^         \n",
    "       ^^^^^^^^^^^^^^^        \n",
    "      ^^^^^^^^^^^^^^^^^       \n",
    "     ^^^^^^^^^^^^^^^^^^^      \n",
    "    ^^^^^^^^^^^^^^^^^^^^^     \n",
    "   ^^^^^^^^^^^^^^^^^^^^^^^    \n",
    "  ^^^^^^^^^^^^^^^^^^^^^^^^^   \n",
    " ^^^^^^^^^^^^^^^^^^^^^^^^^^^  \n",
    "^^^^^^^^^^^^^^^^^^^^^^^^^^^^^ \n",
    "             |||              \n",
    "             |||              \n",
    "             |||              \n",
    "           \\_____/            \n",
    " ------------------------------"
   ]
  }
 ],
 "metadata": {
  "kernelspec": {
   "display_name": "Python 3.09",
   "language": "python",
   "name": "python3"
  },
  "language_info": {
   "codemirror_mode": {
    "name": "ipython",
    "version": 3
   },
   "file_extension": ".py",
   "mimetype": "text/x-python",
   "name": "python",
   "nbconvert_exporter": "python",
   "pygments_lexer": "ipython3",
   "version": "3.9.7"
  }
 },
 "nbformat": 4,
 "nbformat_minor": 5
}
