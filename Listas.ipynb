{
 "cells": [
  {
   "cell_type": "markdown",
   "metadata": {
    "id": "IgmAqqHje7VC"
   },
   "source": [
    "# **Listas**\n",
    "\n",
    "Colección ordenada heterogénea y **mutable**.\n",
    "\n",
    "Sintáxis básica: [ elem, elem2, ... elemx ]\n",
    "\n",
    "Funciones útiles de las listas:\n",
    "\n",
    "* list.**append(x)** <br>\n",
    "agrega un elemento al final de la lista.\n",
    "\n",
    "* list.**extend(iterable)** <br>\n",
    "Extiende una lista agregando todos los items del iterable indicado.\n",
    "\n",
    "* list.**insert(i, x)** <br>\n",
    "Nos permite insertar un elemento en la posición indicada..\n",
    "\n",
    "* list.**remove(x)** <br>\n",
    "Elimina **el primer** elemento de la lista igual a x. Si no consigue el elemento lanza un ValueError.\n",
    "\n",
    "* list.**pop(i)** <br>\n",
    "Elimina un elemento en la posición indicada. Si no indicamos un elemento, elimina el último elemento de la lista.\n",
    "\n",
    "* list.**clear()** <br>\n",
    "Elimina los elementos de la lista. Es equivalente a del lista[:]\n",
    "\n",
    "* list.**index(elemento, inicio, fin)** <br>\n",
    "Nos permite buscar un elemento en la lista. Si no existe el elemento generará un ValueError<br>\n",
    "  * elemento - lo que buscamos<br>\n",
    "  * inicio (opcional) - Donde queremos que inicie la búsqueda<br>\n",
    "  * fin (opcional) - Donde queremos que detenga la búsqueda<br>\n",
    "\n",
    "* list.**count(x)** <br>\n",
    "Devuelve el número de veces que x aparece en la lista.\n",
    "\n",
    "* list.**sort()** <br>\n",
    "Ordena los elementos de la lista, si queremos un orden inverso, podemos indicarle reverse=True dentro del paréntesis\n",
    "\n",
    "* list.**reverse()** <br>\n",
    "Realiza una inversión de la lista.\n",
    "\n",
    "* list.**copy()** <br>\n",
    "Hace una copia de la lista. **recordar este detalle**"
   ]
  },
  {
   "cell_type": "code",
   "execution_count": 4,
   "metadata": {
    "colab": {
     "base_uri": "https://localhost:8080/"
    },
    "id": "UGJU8RYHe6wa",
    "outputId": "facccda1-e771-458f-bf64-1c6ce65693ac"
   },
   "outputs": [
    {
     "name": "stdout",
     "output_type": "stream",
     "text": [
      "ORIGINAL: ['QUE HA PASADO', 'a', 'mes', 1, 2, 3, [4, 5]]\n",
      "SEGUNDA: ['QUE HA PASADO', 'a', 'mes', 1, 2, 3, [4, 5]]\n",
      "-----\n",
      "ORIGINAL: ['QUE HA PASADO', 'a', 'mes', 1, 2, 3, [4, 5]]\n",
      "TERCERA: ['AHH!!!', 'a', 'mes', 1, 2, 3, [4, 5]]\n"
     ]
    }
   ],
   "source": [
    "#Veamos que pasa cuando asignamos a una variable, una lista:\n",
    "\n",
    "#Creo una primera lista\n",
    "lista = ['j', 'a', 'mes', 1, 2, 3, [4, 5]]\n",
    "\n",
    "#Una segunda lista, que tiene como valor la primera\n",
    "lista2 = lista\n",
    "\n",
    "#Modifico un elemento de la segunda lista\n",
    "lista2[0]= 'QUE HA PASADO'\n",
    "\n",
    "#Imprimo la lista original\n",
    "print(\"ORIGINAL:\", lista)\n",
    "print(\"SEGUNDA:\", lista2)\n",
    "\n",
    "\n",
    "# Como vemos, la segunda lista es una simple referencia a la lista. Ambas \n",
    "# almacenan la referencia a la misma lista.\n",
    "print(\"-----\")\n",
    "# Si queremos tener 2 listas independientes:\n",
    "\n",
    "lista3 = lista.copy()\n",
    "lista3[0] = 'AHH!!!'\n",
    "\n",
    "print(\"ORIGINAL:\", lista)\n",
    "print(\"TERCERA:\", lista3)"
   ]
  },
  {
   "cell_type": "code",
   "execution_count": 1,
   "metadata": {
    "id": "sVu2E51MnHyM"
   },
   "outputs": [
    {
     "name": "stdout",
     "output_type": "stream",
     "text": [
      "[16, 12, 15, 9, 8, 7, 8, 11, 6, 5]\n"
     ]
    }
   ],
   "source": [
    "# Ejercicio\n",
    "# Realice una función que devuelva una lista, con la cantidad de números \n",
    "# aleatorios que le indiquemos, en el rango indicado.\n",
    "# Ejemplo: generador(45, 0, 100) nos devolverá una lista de 45 elementos, los\n",
    "# cuales serán números aleatorios del 0 al 100.\n",
    "#\n",
    "# Recordar utilizar la función random.random().\n",
    "# Recordar que random debemos importarlo [import random] al inicio\n",
    "\n",
    "# **Listas**\n",
    "\n",
    "import random\n",
    "def generado_lista(cuantos,inicio,fin):\n",
    "    lista=[]\n",
    "    for n in range (cuantos):\n",
    "        lista.append(int(inicio+random.random()*(fin-inicio)))\n",
    "    print (lista)\n",
    "\n",
    "generado_lista(10,2,20)"
   ]
  },
  {
   "cell_type": "code",
   "execution_count": 5,
   "metadata": {
    "id": "FRap-X0GkgLX"
   },
   "outputs": [
    {
     "name": "stdout",
     "output_type": "stream",
     "text": [
      "71\n"
     ]
    }
   ],
   "source": [
    "# Ejercicio:\n",
    "# Realiza una función que sume todos los elementos de una lista.\n",
    "\n",
    "def suma(list):\n",
    "    return list\n",
    "\n",
    "print(sum(suma([1,2,4,5,9,50])))"
   ]
  },
  {
   "cell_type": "code",
   "execution_count": 7,
   "metadata": {
    "id": "S0lxxf0Mktj3"
   },
   "outputs": [
    {
     "name": "stdout",
     "output_type": "stream",
     "text": [
      "{1, 3, 4, 5, 6, 7, 78}\n"
     ]
    }
   ],
   "source": [
    "# Ejercicio:\n",
    "# Realiza una función que elimine todos los elementos duplicados de una lista\n",
    "\n",
    "def elimina(list):\n",
    "    return list\n",
    "print(elimina(set([1,1,1,3,3,4,5,6,6,7,78,])))"
   ]
  },
  {
   "cell_type": "code",
   "execution_count": null,
   "metadata": {
    "id": "QTyiBPwlk44E"
   },
   "outputs": [],
   "source": [
    "# Ejercicio\n",
    "        # Realice una función, que cree una lista a partir de otras dos.\n",
    "        # El resultado será la combinación de cada elemento de una lista con el de la otra\n",
    "        # ejemplo: lista1 =['j', 'q'] lista2=[1,2] , resultado =['j1', 'q1', 'j2', 'q2']\n",
    "        \n"
   ]
  },
  {
   "cell_type": "code",
   "execution_count": null,
   "metadata": {
    "id": "zVOm8JV2lYCZ"
   },
   "outputs": [],
   "source": [
    "# Ejercicio\n",
    "# Realice una función que inserte un elemento dado ANTES de cada elemento de una lista\n",
    "# Ejemplo: lista=['j', 'q'] elem=[1] , resultado = ['1j', '1q']"
   ]
  },
  {
   "cell_type": "code",
   "execution_count": null,
   "metadata": {
    "id": "iAhs4fSHlsaB"
   },
   "outputs": [],
   "source": [
    "# Ejercicio\n",
    "# Realice una función que corte una lista cada x elementos dados, generando\n",
    "# una nueva lista, donde cada elemento es una lista del corte.\n",
    "# Ejemplo lista=['1','2','3','4','5','6','7','8','9','0'] corte=3\n",
    "# resultado = [ ['1','2','3'] , ['4','5','6'] , ['7','8','9'] , ['0']]"
   ]
  },
  {
   "cell_type": "code",
   "execution_count": null,
   "metadata": {
    "id": "tt2wjUfTmRt7"
   },
   "outputs": [],
   "source": [
    "# Ejercicio\n",
    "# Realice una función, que busque en una lista todos los números mayores de\n",
    "# un número dado por el usuario (input). \n",
    "# Devolverá con un print, cuales son esos elementos, cuantos y \n",
    "# cuanto suman entre ellos.\n",
    "# Ejemplo: lista=[1,2,3,4,5,6,7,8,9,10] numero = 4\n",
    "# resultado 5, 6, 7, 8, 9, 10 - total: 6 - suma total: 45"
   ]
  }
 ],
 "metadata": {
  "colab": {
   "provenance": []
  },
  "kernelspec": {
   "display_name": "Python 3.09",
   "language": "python",
   "name": "python3"
  },
  "language_info": {
   "codemirror_mode": {
    "name": "ipython",
    "version": 3
   },
   "file_extension": ".py",
   "mimetype": "text/x-python",
   "name": "python",
   "nbconvert_exporter": "python",
   "pygments_lexer": "ipython3",
   "version": "3.9.7"
  }
 },
 "nbformat": 4,
 "nbformat_minor": 4
}
